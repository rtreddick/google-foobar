{
 "cells": [
  {
   "cell_type": "code",
   "execution_count": 27,
   "metadata": {},
   "outputs": [
    {
     "data": {
      "text/plain": [
       "487067745"
      ]
     },
     "execution_count": 27,
     "metadata": {},
     "output_type": "execute_result"
    }
   ],
   "source": [
    "def solution(n):\n",
    "\n",
    "    def _max_steps(n):\n",
    "        min = 1\n",
    "        for s in range(2,n):\n",
    "            min += s\n",
    "            if n <= min:\n",
    "                return s if n == min else s-1\n",
    "\n",
    "    def _build_base_cases(max_steps, memo=None):\n",
    "        if memo == None:\n",
    "            memo = {}\n",
    "\n",
    "        for b in range(0, 5):\n",
    "            for s in range(2, max_steps + 1):\n",
    "                memo.update({(b,s): 0})\n",
    "\n",
    "        memo.update({(3,2): 1, (4,2): 1})\n",
    "        \n",
    "        return memo\n",
    "\n",
    "    def _recursive(node, memo):\n",
    "        b = node[0]\n",
    "        s = node[1]\n",
    "\n",
    "        try:\n",
    "            return memo[node]\n",
    "        except KeyError:\n",
    "            if s >= b:\n",
    "                return 0\n",
    "            if s == 2:\n",
    "                result = _recursive((b-s, s), memo) + 1\n",
    "                memo[node] = result\n",
    "                return result\n",
    "            else:\n",
    "                result = _recursive((b-s, s-1), memo) + _recursive((b-s, s), memo)\n",
    "                memo[node] = result\n",
    "                return result\n",
    "\n",
    "    max_steps = _max_steps(n)\n",
    "    memo = _build_base_cases(max_steps)\n",
    "    num_stairs = 0\n",
    "    for s in range(2, max_steps + 1):\n",
    "        num_stairs += _recursive((n,s), memo)\n",
    "\n",
    "    return num_stairs\n",
    "\n",
    "solution(200)\n"
   ]
  }
 ],
 "metadata": {
  "interpreter": {
   "hash": "9a7e77080e188257cc1a13b05fad48f882a01cda02e79cab0e7533d2fa726a6a"
  },
  "kernelspec": {
   "display_name": "Python 3.9.11 ('vscode')",
   "language": "python",
   "name": "python3"
  },
  "language_info": {
   "codemirror_mode": {
    "name": "ipython",
    "version": 3
   },
   "file_extension": ".py",
   "mimetype": "text/x-python",
   "name": "python",
   "nbconvert_exporter": "python",
   "pygments_lexer": "ipython3",
   "version": "3.9.11"
  },
  "orig_nbformat": 4
 },
 "nbformat": 4,
 "nbformat_minor": 2
}
