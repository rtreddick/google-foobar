{
 "cells": [
  {
   "cell_type": "markdown",
   "metadata": {},
   "source": [
    "Prepare the Bunnies' Escape\n",
    "===========================\n",
    "\n",
    "You're awfully close to destroying the LAMBCHOP doomsday device and freeing Commander Lambda's bunny workers, but once they're free of the work duties the bunnies are going to need to escape Lambda's space station via the escape pods as quickly as possible. Unfortunately, the halls of the space station are a maze of corridors and dead ends that will be a deathtrap for the escaping bunnies. Fortunately, Commander Lambda has put you in charge of a remodeling project that will give you the opportunity to make things a little easier for the bunnies. Unfortunately (again), you can't just remove all obstacles between the bunnies and the escape pods - at most you can remove one wall per escape pod path, both to maintain structural integrity of the station and to avoid arousing Commander Lambda's suspicions. \n",
    "\n",
    "You have maps of parts of the space station, each starting at a work area exit and ending at the door to an escape pod. The map is represented as a matrix of 0s and 1s, where 0s are passable space and 1s are impassable walls. The door out of the station is at the top left (0,0) and the door into an escape pod is at the bottom right (w-1,h-1). \n",
    "\n",
    "Write a function solution(map) that generates the length of the shortest path from the station door to the escape pod, where you are allowed to remove one wall as part of your remodeling plans. The path length is the total number of nodes you pass through, counting both the entrance and exit nodes. The starting and ending positions are always passable (0). The map will always be solvable, though you may or may not need to remove a wall. The height and width of the map can be from 2 to 20. Moves can only be made in cardinal directions; no diagonal moves are allowed.\n",
    "\n",
    "Languages\n",
    "=========\n",
    "\n",
    "To provide a Python solution, edit solution.py\n",
    "To provide a Java solution, edit Solution.java\n",
    "\n",
    "Test cases\n",
    "==========\n",
    "Your code should pass the following test cases.\n",
    "Note that it may also be run against hidden test cases not shown here.\n",
    "\n",
    "-- Python cases --\n",
    "Input:\n",
    "solution.solution([[0, 1, 1, 0], [0, 0, 0, 1], [1, 1, 0, 0], [1, 1, 1, 0]])\n",
    "Output:\n",
    "    7\n",
    "\n",
    "Input:\n",
    "solution.solution([[0, 0, 0, 0, 0, 0], [1, 1, 1, 1, 1, 0], [0, 0, 0, 0, 0, 0], [0, 1, 1, 1, 1, 1], [0, 1, 1, 1, 1, 1], [0, 0, 0, 0, 0, 0]])\n",
    "Output:\n",
    "    11\n",
    "\n",
    "-- Java cases --\n",
    "Input:\n",
    "Solution.solution({{0, 1, 1, 0}, {0, 0, 0, 1}, {1, 1, 0, 0}, {1, 1, 1, 0}})\n",
    "Output:\n",
    "    7\n",
    "\n",
    "Input:\n",
    "Solution.solution({{0, 0, 0, 0, 0, 0}, {1, 1, 1, 1, 1, 0}, {0, 0, 0, 0, 0, 0}, {0, 1, 1, 1, 1, 1}, {0, 1, 1, 1, 1, 1}, {0, 0, 0, 0, 0, 0}})\n",
    "Output:\n",
    "    11"
   ]
  },
  {
   "cell_type": "code",
   "execution_count": 28,
   "metadata": {},
   "outputs": [],
   "source": [
    "def solution(map):\n",
    "\n",
    "    def _build_graph(map):\n",
    "\n",
    "        graph = {}\n",
    "        w = len(map[0])\n",
    "        l = len(map)\n",
    "\n",
    "        for row_index, row in enumerate(map):\n",
    "            for col_index, wall in enumerate(row):\n",
    "                children = tuple(\n",
    "                    node for node in [\n",
    "                        (col_index + 1, row_index), # right\n",
    "                        (col_index, row_index - 1), # down\n",
    "                        (col_index - 1, row_index), # left\n",
    "                        (col_index, row_index + 1) # up\n",
    "                    ] if (\n",
    "                        0 <= node[0] <= w - 1 and\n",
    "                        0 <= node[1] <= l - 1\n",
    "                    )\n",
    "                )\n",
    "                graph.update({(col_index, row_index): {\"children\": children, \"wall\": wall}})\n",
    "\n",
    "        return graph, (w-1, l-1)\n",
    "\n",
    "    def _bfs(graph, end):\n",
    "\n",
    "        # build queue of paths to explore, track number of walls removed for each path\n",
    "        path_queue = [{\"path\": (0,0), \"walls_removed\": 0}]\n",
    "        while len(path_queue) != 0:\n",
    "            current_path = path_queue.pop(0)\n",
    "            last_node = current_path[\"path\"][-1]\n",
    "\n",
    "            # when bfs reaches end, we've found the shortest path length\n",
    "            if last_node == end:\n",
    "                return len(current_path[\"path\"])\n",
    "\n",
    "            # iterate through all children of last_node\n",
    "            for child in graph[last_node][\"children\"]:\n",
    "\n",
    "                # don't pass the same node twice\n",
    "                if child not in current_path[\"path\"]:\n",
    "\n",
    "                    # only explore wall nodes if we haven't yet removed a wall\n",
    "                    if graph[child][\"wall\"] == 1 and current_path[\"walls_removed\"] == 0:\n",
    "\n",
    "                        # add path to queue, update walls_removed to 1\n",
    "                        path_queue.append({\n",
    "                            \"path\": current_path[\"path\"] + [child],\n",
    "                            \"walls_removed\": 1})\n",
    "\n",
    "                    # explore all passable nodes\n",
    "                    elif graph[child][\"wall\"] == 0:\n",
    "                        path_queue.append({\n",
    "                            \"path\": current_path[\"path\"] + [child],\n",
    "                            \"walls_removed\": 0\n",
    "                        })\n",
    "    \n",
    "    graph, end = _build_graph(map)\n",
    "\n",
    "    return _bfs(graph, end)\n",
    "\n"
   ]
  },
  {
   "cell_type": "code",
   "execution_count": 29,
   "metadata": {},
   "outputs": [
    {
     "ename": "KeyError",
     "evalue": "0",
     "output_type": "error",
     "traceback": [
      "\u001b[0;31m---------------------------------------------------------------------------\u001b[0m",
      "\u001b[0;31mKeyError\u001b[0m                                  Traceback (most recent call last)",
      "\u001b[1;32m/Users/timreddick/code/google-foobar/level_3/challenge_5.ipynb Cell 3'\u001b[0m in \u001b[0;36m<cell line: 3>\u001b[0;34m()\u001b[0m\n\u001b[1;32m      <a href='vscode-notebook-cell:/Users/timreddick/code/google-foobar/level_3/challenge_5.ipynb#ch0000008?line=0'>1</a>\u001b[0m test_case_1 \u001b[39m=\u001b[39m [[\u001b[39m0\u001b[39m, \u001b[39m1\u001b[39m, \u001b[39m1\u001b[39m, \u001b[39m0\u001b[39m], [\u001b[39m0\u001b[39m, \u001b[39m0\u001b[39m, \u001b[39m0\u001b[39m, \u001b[39m1\u001b[39m], [\u001b[39m1\u001b[39m, \u001b[39m1\u001b[39m, \u001b[39m0\u001b[39m, \u001b[39m0\u001b[39m], [\u001b[39m1\u001b[39m, \u001b[39m1\u001b[39m, \u001b[39m1\u001b[39m, \u001b[39m0\u001b[39m]]\n\u001b[0;32m----> <a href='vscode-notebook-cell:/Users/timreddick/code/google-foobar/level_3/challenge_5.ipynb#ch0000008?line=2'>3</a>\u001b[0m solution(test_case_1)\n",
      "\u001b[1;32m/Users/timreddick/code/google-foobar/level_3/challenge_5.ipynb Cell 2'\u001b[0m in \u001b[0;36msolution\u001b[0;34m(map)\u001b[0m\n\u001b[1;32m     <a href='vscode-notebook-cell:/Users/timreddick/code/google-foobar/level_3/challenge_5.ipynb#ch0000007?line=53'>54</a>\u001b[0m                     path_queue\u001b[39m.\u001b[39mappend({\n\u001b[1;32m     <a href='vscode-notebook-cell:/Users/timreddick/code/google-foobar/level_3/challenge_5.ipynb#ch0000007?line=54'>55</a>\u001b[0m                         \u001b[39m\"\u001b[39m\u001b[39mpath\u001b[39m\u001b[39m\"\u001b[39m: current_path[\u001b[39m\"\u001b[39m\u001b[39mpath\u001b[39m\u001b[39m\"\u001b[39m] \u001b[39m+\u001b[39m [child],\n\u001b[1;32m     <a href='vscode-notebook-cell:/Users/timreddick/code/google-foobar/level_3/challenge_5.ipynb#ch0000007?line=55'>56</a>\u001b[0m                         \u001b[39m\"\u001b[39m\u001b[39mwalls_removed\u001b[39m\u001b[39m\"\u001b[39m: \u001b[39m0\u001b[39m\n\u001b[1;32m     <a href='vscode-notebook-cell:/Users/timreddick/code/google-foobar/level_3/challenge_5.ipynb#ch0000007?line=56'>57</a>\u001b[0m                     })\n\u001b[1;32m     <a href='vscode-notebook-cell:/Users/timreddick/code/google-foobar/level_3/challenge_5.ipynb#ch0000007?line=58'>59</a>\u001b[0m graph, end \u001b[39m=\u001b[39m _build_graph(\u001b[39mmap\u001b[39m)\n\u001b[0;32m---> <a href='vscode-notebook-cell:/Users/timreddick/code/google-foobar/level_3/challenge_5.ipynb#ch0000007?line=60'>61</a>\u001b[0m \u001b[39mreturn\u001b[39;00m _bfs(graph, end)\n",
      "\u001b[1;32m/Users/timreddick/code/google-foobar/level_3/challenge_5.ipynb Cell 2'\u001b[0m in \u001b[0;36msolution.<locals>._bfs\u001b[0;34m(graph, end)\u001b[0m\n\u001b[1;32m     <a href='vscode-notebook-cell:/Users/timreddick/code/google-foobar/level_3/challenge_5.ipynb#ch0000007?line=35'>36</a>\u001b[0m     \u001b[39mreturn\u001b[39;00m \u001b[39mlen\u001b[39m(current_path[\u001b[39m\"\u001b[39m\u001b[39mpath\u001b[39m\u001b[39m\"\u001b[39m])\n\u001b[1;32m     <a href='vscode-notebook-cell:/Users/timreddick/code/google-foobar/level_3/challenge_5.ipynb#ch0000007?line=37'>38</a>\u001b[0m \u001b[39m# iterate through all children of last_node\u001b[39;00m\n\u001b[0;32m---> <a href='vscode-notebook-cell:/Users/timreddick/code/google-foobar/level_3/challenge_5.ipynb#ch0000007?line=38'>39</a>\u001b[0m \u001b[39mfor\u001b[39;00m child \u001b[39min\u001b[39;00m graph[last_node][\u001b[39m\"\u001b[39m\u001b[39mchildren\u001b[39m\u001b[39m\"\u001b[39m]:\n\u001b[1;32m     <a href='vscode-notebook-cell:/Users/timreddick/code/google-foobar/level_3/challenge_5.ipynb#ch0000007?line=39'>40</a>\u001b[0m \n\u001b[1;32m     <a href='vscode-notebook-cell:/Users/timreddick/code/google-foobar/level_3/challenge_5.ipynb#ch0000007?line=40'>41</a>\u001b[0m     \u001b[39m# don't pass the same node twice\u001b[39;00m\n\u001b[1;32m     <a href='vscode-notebook-cell:/Users/timreddick/code/google-foobar/level_3/challenge_5.ipynb#ch0000007?line=41'>42</a>\u001b[0m     \u001b[39mif\u001b[39;00m child \u001b[39mnot\u001b[39;00m \u001b[39min\u001b[39;00m current_path[\u001b[39m\"\u001b[39m\u001b[39mpath\u001b[39m\u001b[39m\"\u001b[39m]:\n\u001b[1;32m     <a href='vscode-notebook-cell:/Users/timreddick/code/google-foobar/level_3/challenge_5.ipynb#ch0000007?line=42'>43</a>\u001b[0m \n\u001b[1;32m     <a href='vscode-notebook-cell:/Users/timreddick/code/google-foobar/level_3/challenge_5.ipynb#ch0000007?line=43'>44</a>\u001b[0m         \u001b[39m# only explore wall nodes if we haven't yet removed a wall\u001b[39;00m\n\u001b[1;32m     <a href='vscode-notebook-cell:/Users/timreddick/code/google-foobar/level_3/challenge_5.ipynb#ch0000007?line=44'>45</a>\u001b[0m         \u001b[39mif\u001b[39;00m graph[child][\u001b[39m\"\u001b[39m\u001b[39mwall\u001b[39m\u001b[39m\"\u001b[39m] \u001b[39m==\u001b[39m \u001b[39m1\u001b[39m \u001b[39mand\u001b[39;00m current_path[\u001b[39m\"\u001b[39m\u001b[39mwalls_removed\u001b[39m\u001b[39m\"\u001b[39m] \u001b[39m==\u001b[39m \u001b[39m0\u001b[39m:\n\u001b[1;32m     <a href='vscode-notebook-cell:/Users/timreddick/code/google-foobar/level_3/challenge_5.ipynb#ch0000007?line=45'>46</a>\u001b[0m \n\u001b[1;32m     <a href='vscode-notebook-cell:/Users/timreddick/code/google-foobar/level_3/challenge_5.ipynb#ch0000007?line=46'>47</a>\u001b[0m             \u001b[39m# add path to queue, update walls_removed to 1\u001b[39;00m\n",
      "\u001b[0;31mKeyError\u001b[0m: 0"
     ]
    }
   ],
   "source": [
    "test_case_1 = [[0, 1, 1, 0], [0, 0, 0, 1], [1, 1, 0, 0], [1, 1, 1, 0]]\n",
    "\n",
    "solution(test_case_1)\n",
    "\n"
   ]
  },
  {
   "cell_type": "code",
   "execution_count": 52,
   "metadata": {},
   "outputs": [
    {
     "name": "stdout",
     "output_type": "stream",
     "text": [
      "True\n"
     ]
    }
   ],
   "source": [
    "# test dict access\n",
    "\n",
    "path_queue = {((0,0), 0): 1, ((0,1), 1): 2, \"test\": 0}\n",
    "\n",
    "print(path_queue.get(\"test2\") is None)"
   ]
  },
  {
   "cell_type": "code",
   "execution_count": 23,
   "metadata": {},
   "outputs": [
    {
     "name": "stdout",
     "output_type": "stream",
     "text": [
      "(((0, 0), 0), 1)\n",
      "OrderedDict([(((0, 1), 1), 2)])\n",
      "True\n",
      "(((0, 1), 1), 2)\n",
      "False\n"
     ]
    }
   ],
   "source": [
    "from collections import OrderedDict\n",
    "\n",
    "path_queue = OrderedDict({((0,0), 0): 1})\n",
    "path_queue.update({((0,1), 1): 2})\n",
    "print(path_queue.popitem(last=False))\n",
    "print(path_queue)\n",
    "print(((0,1), 1) in path_queue)\n",
    "print(path_queue.popitem(last=False))\n",
    "print(((0,1), 1) in path_queue)"
   ]
  },
  {
   "cell_type": "code",
   "execution_count": 34,
   "metadata": {},
   "outputs": [
    {
     "name": "stdout",
     "output_type": "stream",
     "text": [
      "False\n"
     ]
    }
   ],
   "source": [
    "test = {\"test\": 1}\n",
    "\n",
    "print(\"test2\" in test)"
   ]
  },
  {
   "cell_type": "code",
   "execution_count": 32,
   "metadata": {},
   "outputs": [
    {
     "name": "stdout",
     "output_type": "stream",
     "text": [
      "[2, 3]\n",
      "[1, 2, 3]\n",
      "empty\n"
     ]
    }
   ],
   "source": [
    "test = [1,2,3]\n",
    "test2 = test.copy()\n",
    "test3 = []\n",
    "test.remove(1)\n",
    "\n",
    "print(test)\n",
    "print(test2)\n",
    "if not test3:\n",
    "    print(\"empty\")"
   ]
  },
  {
   "cell_type": "code",
   "execution_count": 36,
   "metadata": {},
   "outputs": [
    {
     "name": "stdout",
     "output_type": "stream",
     "text": [
      "[1, 2, 3, 1]\n"
     ]
    }
   ],
   "source": [
    "test = [1,2,3]\n",
    "test2 = [1,2,3] + [1]\n",
    "print(test2)"
   ]
  },
  {
   "cell_type": "code",
   "execution_count": 43,
   "metadata": {},
   "outputs": [
    {
     "name": "stdout",
     "output_type": "stream",
     "text": [
      "[(0, 0)]\n",
      "[([(0, 0)], 8)]\n",
      "[([(0, 0)], 8), ([(0, 0), (0, 1)], 4), ([(0, 0), (0, 1), (0, 2)], 10)]\n",
      "[([(0, 0), (0, 1)], 4), ([(0, 0)], 8), ([(0, 0), (0, 1), (0, 2)], 10)]\n"
     ]
    }
   ],
   "source": [
    "path_queue = [([(0,0)], 8)]\n",
    "# current_path, wall = path_queue.pop(0)\n",
    "current_path, wall = path_queue[0]\n",
    "current_node = (0,1)\n",
    "print(current_path)\n",
    "print(path_queue)\n",
    "path_queue.append((current_path + [current_node], 4))\n",
    "path_queue.append((current_path + [current_node, (0,2)], 10))\n",
    "print(path_queue)\n",
    "path_queue.sort(key=lambda x: x[1])\n",
    "print(path_queue)"
   ]
  },
  {
   "cell_type": "code",
   "execution_count": null,
   "metadata": {},
   "outputs": [],
   "source": []
  }
 ],
 "metadata": {
  "interpreter": {
   "hash": "de3c63369a484d911f8bc6207db464beb71a07f6fafb161be5ed39101480d65d"
  },
  "kernelspec": {
   "display_name": "Python 3.8.0 ('6.86x')",
   "language": "python",
   "name": "python3"
  },
  "language_info": {
   "codemirror_mode": {
    "name": "ipython",
    "version": 3
   },
   "file_extension": ".py",
   "mimetype": "text/x-python",
   "name": "python",
   "nbconvert_exporter": "python",
   "pygments_lexer": "ipython3",
   "version": "3.8.0"
  },
  "orig_nbformat": 4
 },
 "nbformat": 4,
 "nbformat_minor": 2
}
