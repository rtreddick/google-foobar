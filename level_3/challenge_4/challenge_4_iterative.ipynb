{
 "cells": [
  {
   "cell_type": "code",
   "execution_count": 3,
   "metadata": {},
   "outputs": [
    {
     "data": {
      "text/plain": [
       "487067745"
      ]
     },
     "execution_count": 3,
     "metadata": {},
     "output_type": "execute_result"
    }
   ],
   "source": [
    "def solution(n):\n",
    "    \n",
    "    # base cases\n",
    "    if n < 3:\n",
    "        return 0\n",
    "    elif n in (3,4):\n",
    "        return 1\n",
    "\n",
    "    # initialize memo grid\n",
    "    memo = [\n",
    "        [0 for bricks in range(n+1)] for steps in range(n+1)\n",
    "    ]\n",
    "\n",
    "    # 3 bricks in 2 steps, 4 bricks in 2 steps\n",
    "    memo[3][2] = 1\n",
    "    memo[4][2] = 1\n",
    "\n",
    "    # build stair counts from bottom up\n",
    "    for b in range(5, n+1): # iterate over bricks\n",
    "        for s in range(2, b+1): # iterate over steps\n",
    "\n",
    "            if s == 2:\n",
    "                # number of stairs +1 for every +2 bricks\n",
    "                memo[b][s] = memo[b - 2][2] + 1\n",
    "            else:\n",
    "                # b - s bricks in s steps + b-s bricks in s - 1 steps\n",
    "                memo[b][s] = memo[b - s][s] + memo[b - s][s - 1]\n",
    "    \n",
    "    return sum(memo[n])\n",
    "\n",
    "solution(200)"
   ]
  }
 ],
 "metadata": {
  "interpreter": {
   "hash": "9a7e77080e188257cc1a13b05fad48f882a01cda02e79cab0e7533d2fa726a6a"
  },
  "kernelspec": {
   "display_name": "Python 3.9.11 ('vscode')",
   "language": "python",
   "name": "python3"
  },
  "language_info": {
   "codemirror_mode": {
    "name": "ipython",
    "version": 3
   },
   "file_extension": ".py",
   "mimetype": "text/x-python",
   "name": "python",
   "nbconvert_exporter": "python",
   "pygments_lexer": "ipython3",
   "version": "3.9.11"
  },
  "orig_nbformat": 4
 },
 "nbformat": 4,
 "nbformat_minor": 2
}
