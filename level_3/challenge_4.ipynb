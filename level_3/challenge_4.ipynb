{
 "cells": [
  {
   "cell_type": "code",
   "execution_count": 6,
   "metadata": {},
   "outputs": [
    {
     "data": {
      "text/plain": [
       "487067745"
      ]
     },
     "execution_count": 6,
     "metadata": {},
     "output_type": "execute_result"
    }
   ],
   "source": [
    "def solution(n):\n",
    "    \n",
    "    # base cases\n",
    "    if n < 3:\n",
    "        return 0\n",
    "    elif n in (3,4):\n",
    "        return 1\n",
    "\n",
    "    # initialize memo grid\n",
    "    memo = [\n",
    "        [0 for bricks in range(n+1)] for steps in range(n+1)\n",
    "    ]\n",
    "\n",
    "    # 3 bricks in 2 steps, 4 bricks in 2 steps\n",
    "    memo[3][2] = 1\n",
    "    memo[4][2] = 1\n",
    "\n",
    "    # build stair counts from bottom up\n",
    "    for b in range(5, n+1): # iterate over bricks\n",
    "        for s in range(2, b+1): # iterate over steps\n",
    "\n",
    "            if s == 2:\n",
    "                # number of stairs +1 for every +2 bricks\n",
    "                memo[b][s] = memo[b - 2][2] + 1\n",
    "            else:\n",
    "                # b - s bricks in s steps + b-s bricks in s - 1 steps\n",
    "                memo[b][s] = memo[b - s][s] + memo[b - s][s - 1]\n",
    "    \n",
    "    return sum(memo[n])\n",
    "\n",
    "solution(200)"
   ]
  },
  {
   "cell_type": "code",
   "execution_count": 6,
   "metadata": {},
   "outputs": [
    {
     "name": "stdout",
     "output_type": "stream",
     "text": [
      "testing\n"
     ]
    },
    {
     "data": {
      "text/plain": [
       "1"
      ]
     },
     "execution_count": 6,
     "metadata": {},
     "output_type": "execute_result"
    }
   ],
   "source": [
    "def solution(n):\n",
    "\n",
    "    def _build_base_cases(n, memo=None):\n",
    "        \n",
    "        if memo == None:\n",
    "            memo = {}\n",
    "\n",
    "        for b in range(0,5):\n",
    "            for s in range(0,n):\n",
    "                memo.update({(b,s):0})\n",
    "        \n",
    "        memo.update({(3,2):1, (4,2):1})\n",
    "\n",
    "        return memo\n",
    "\n",
    "\n",
    "    def _recursive(node, memo: dict):\n",
    "        \n",
    "        s1 = node[1]\n",
    "        s2 = max(s1-1, 0)\n",
    "        b = max(node[0]-s1, 0)\n",
    "\n",
    "        return (\n",
    "            memo.setdefault((b, s1), _recursive((b, s1), memo)) +\n",
    "            memo.setdefault((b, s2), _recursive((b, s2), memo))\n",
    "        )\n",
    "\n",
    "    stairs = 0\n",
    "    for s in range(2,n):\n",
    "        stairs += memo.setdefault((n,s), )\n",
    "\n",
    "    return stairs\n",
    "\n",
    "solution(3)"
   ]
  },
  {
   "cell_type": "code",
   "execution_count": 18,
   "metadata": {},
   "outputs": [
    {
     "data": {
      "text/plain": [
       "2"
      ]
     },
     "execution_count": 18,
     "metadata": {},
     "output_type": "execute_result"
    }
   ],
   "source": [
    "def solution(n):\n",
    "\n",
    "    def build_base_cases(n, memo=None):\n",
    "\n",
    "        if memo == None:\n",
    "            memo = {}\n",
    "\n",
    "        for b in range(0,5):\n",
    "            for s in range(0,n):\n",
    "                memo.update({(b,s):0})\n",
    "        \n",
    "        memo.update({(3,2):1, (4,2):1})\n",
    "\n",
    "        return memo\n",
    "\n",
    "    def _recursive(node: tuple[int, int], memo: dict):\n",
    "        \n",
    "        b = node[0]\n",
    "        s = node[1]\n",
    "\n",
    "        try:\n",
    "            return memo[node]\n",
    "        except KeyError:\n",
    "            if s == 2:\n",
    "                memo[node] = memo[(b-s, s)] + 1\n",
    "            else:\n",
    "                memo[node] = _recursive((b-s, s), memo) + _recursive((b-s, s-1), memo)\n",
    "\n",
    "        return memo[node]\n",
    "\n",
    "    memo = build_base_cases(n)\n",
    "\n",
    "    stairs = 0\n",
    "    for s in range(2,n):\n",
    "        stairs += _recursive((n, s), memo)\n",
    "\n",
    "    return stairs\n",
    "\n",
    "solution(7)"
   ]
  }
 ],
 "metadata": {
  "interpreter": {
   "hash": "9a7e77080e188257cc1a13b05fad48f882a01cda02e79cab0e7533d2fa726a6a"
  },
  "kernelspec": {
   "display_name": "Python 3.9.11 ('vscode')",
   "language": "python",
   "name": "python3"
  },
  "language_info": {
   "codemirror_mode": {
    "name": "ipython",
    "version": 3
   },
   "file_extension": ".py",
   "mimetype": "text/x-python",
   "name": "python",
   "nbconvert_exporter": "python",
   "pygments_lexer": "ipython3",
   "version": "3.9.11"
  },
  "orig_nbformat": 4
 },
 "nbformat": 4,
 "nbformat_minor": 2
}
