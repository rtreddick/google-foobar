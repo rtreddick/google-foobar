{
 "cells": [
  {
   "cell_type": "markdown",
   "metadata": {},
   "source": [
    "Gearing Up for Destruction\n",
    "==========================\n",
    "\n",
    "As Commander Lambda's personal assistant, you've been assigned the task of configuring the LAMBCHOP doomsday device's axial orientation gears. It should be pretty simple -- just add gears to create the appropriate rotation ratio. But the problem is, due to the layout of the LAMBCHOP and the complicated system of beams and pipes supporting it, the pegs that will support the gears are fixed in place.\n",
    "\n",
    "The LAMBCHOP's engineers have given you lists identifying the placement of groups of pegs along various support beams. You need to place a gear on each peg (otherwise the gears will collide with unoccupied pegs). The engineers have plenty of gears in all different sizes stocked up, so you can choose gears of any size, from a radius of 1 on up. Your goal is to build a system where the last gear rotates at twice the rate (in revolutions per minute, or rpm) of the first gear, no matter the direction. Each gear (except the last) touches and turns the gear on the next peg to the right.\n",
    "\n",
    "Given a list of distinct positive integers named pegs representing the location of each peg along the support beam, write a function solution(pegs) which, if there is a solution, returns a list of two positive integers a and b representing the numerator and denominator of the first gear's radius in its simplest form in order to achieve the goal above, such that radius = a/b. The ratio a/b should be greater than or equal to 1. Not all support configurations will necessarily be capable of creating the proper rotation ratio, so if the task is impossible, the function solution(pegs) should return the list [-1, -1].\n",
    "\n",
    "For example, if the pegs are placed at [4, 30, 50], then the first gear could have a radius of 12, the second gear could have a radius of 14, and the last one a radius of 6. Thus, the last gear would rotate twice as fast as the first one. In this case, pegs would be [4, 30, 50] and solution(pegs) should return [12, 1].\n",
    "\n",
    "The list pegs will be given sorted in ascending order and will contain at least 2 and no more than 20 distinct positive integers, all between 1 and 10000 inclusive."
   ]
  },
  {
   "cell_type": "code",
   "execution_count": 13,
   "metadata": {},
   "outputs": [
    {
     "name": "stdout",
     "output_type": "stream",
     "text": [
      "(12, 14, 6, 46)\n",
      "(-40, 53, -20, 46)\n"
     ]
    }
   ],
   "source": [
    "def solution_3_pegs(pegs):\n",
    "    min = pegs[0]\n",
    "    mid = pegs[1]\n",
    "    max = pegs[2]\n",
    "\n",
    "    r3 = 2*mid-min-max\n",
    "    r1 = 2*r3\n",
    "    r2 = max-mid-r3\n",
    "    total = r1+2*r2+r3\n",
    "\n",
    "    return(r1, r2, r3, total)\n",
    "\n",
    "test_case_1 = [4, 30, 50]\n",
    "print(solution_3_pegs(test_case_1))\n",
    "\n",
    "test_case_2 = [4, 17, 50]\n",
    "print(solution_3_pegs(test_case_2))\n"
   ]
  },
  {
   "cell_type": "code",
   "execution_count": 19,
   "metadata": {},
   "outputs": [
    {
     "name": "stdout",
     "output_type": "stream",
     "text": [
      "(10.0, 5.0, 1.0, 5.0, 27.0)\n"
     ]
    }
   ],
   "source": [
    "def solution_4_pegs(pegs):\n",
    "    min = pegs[0]\n",
    "    mid1 = pegs[1]\n",
    "    mid2 = pegs[2]\n",
    "    max = pegs[3]\n",
    "\n",
    "    rmax = (1/3)*(max-min+2*mid1-2*mid2)\n",
    "    rmin = 2*rmax\n",
    "    r1 = mid1-min-2*rmax\n",
    "    r2 = max-rmax-mid2\n",
    "    total = rmin+2*r1+2*r2+rmax\n",
    "\n",
    "    return (rmin,r1,r2,rmax,total)\n",
    "\n",
    "test_case = [20, 35, 41, 47]\n",
    "print(solution_4_pegs(test_case))"
   ]
  },
  {
   "cell_type": "code",
   "execution_count": 1,
   "metadata": {},
   "outputs": [
    {
     "data": {
      "text/plain": [
       "[2, -1, 2, 0]"
      ]
     },
     "execution_count": 1,
     "metadata": {},
     "output_type": "execute_result"
    }
   ],
   "source": [
    "def solution(pegs):\n",
    "    \n",
    "    def _find_radius(pegs, r_last):\n",
    "\n",
    "        k = len(pegs)\n",
    "        sign = -1\n",
    "        radius = 0\n",
    "\n",
    "        for index, peg in enumerate(pegs, start=1):\n",
    "\n",
    "            if index == 1:\n",
    "                radius += sign*peg\n",
    "            elif index == k:\n",
    "                radius += sign*peg\n",
    "            else:\n",
    "                radius += sign*2*peg\n",
    "            sign = -sign\n",
    "        \n",
    "        return radius + sign*r_last\n",
    "\n",
    "\n",
    "    radii = []\n",
    "    k = len(pegs)\n",
    "\n",
    "    for index in range(k-1, -1,-1):\n",
    "\n",
    "        if index+1 == k:\n",
    "            radii.append(_find_radius(pegs, r_last=0))\n",
    "        else:\n",
    "            radii.append(_find_radius(pegs[index:index+2], r_last=radii[-1]))\n",
    "            # if radii[-1] < 1:\n",
    "            #     return [-1, -1]\n",
    "\n",
    "    return radii\n",
    "\n",
    "# test_case = [4, 30, 50]\n",
    "# test_case = [4, 17, 50]\n",
    "test_case = [1, 3, 4, 5]\n",
    "solution(test_case)"
   ]
  },
  {
   "cell_type": "code",
   "execution_count": 34,
   "metadata": {},
   "outputs": [
    {
     "data": {
      "text/plain": [
       "[-1, -1]"
      ]
     },
     "execution_count": 34,
     "metadata": {},
     "output_type": "execute_result"
    }
   ],
   "source": [
    "from fractions import Fraction\n",
    "\n",
    "def solution(pegs):\n",
    "    '''\n",
    "    I found the solution pattern of the linear system by hand\n",
    "    and coded the algorithm for the result.\n",
    "    '''\n",
    "\n",
    "    # find radius of the nth (last) gear\n",
    "    k = len(pegs)\n",
    "    sign = -1\n",
    "    rn = 0\n",
    "    for index, peg in enumerate(pegs):\n",
    "\n",
    "        if index == 0:\n",
    "            rn += sign*peg\n",
    "        elif index == k-1:\n",
    "            rn += sign*peg\n",
    "        else:\n",
    "            rn += sign*2*peg\n",
    "        sign = -sign\n",
    "\n",
    "    # the solution differs if there are an even or odd number of pegs\n",
    "    rn = Fraction(rn,3) if (k % 2 == 0) else Fraction(rn)\n",
    "\n",
    "    # calculate the other radii and return [-1, -1] if any radius < 1\n",
    "    radius = rn\n",
    "    for index in range(k-2, -1,-1):\n",
    "\n",
    "        radius = Fraction(pegs[index+1] - pegs[index]) - radius\n",
    "        if radius < 1:\n",
    "            return [-1, -1]\n",
    "\n",
    "    return list(radius.as_integer_ratio())\n",
    "\n",
    "    # # store and return all radii for testing\n",
    "    # radii = [rn]\n",
    "    # for index in range(k-2, -1, -1):\n",
    "    #     radii.append(Fraction(pegs[index+1] - pegs[index]) - radii[-1])\n",
    "    \n",
    "    # return list(reversed(radii))\n",
    "\n",
    "\n",
    "    \n",
    "\n",
    "# test_case = [4, 30, 50]\n",
    "test_case = [4, 17, 50]\n",
    "test_case = [4, 12, 16, 20]\n",
    "solution(test_case)\n"
   ]
  }
 ],
 "metadata": {
  "interpreter": {
   "hash": "9a7e77080e188257cc1a13b05fad48f882a01cda02e79cab0e7533d2fa726a6a"
  },
  "kernelspec": {
   "display_name": "Python 3.9.11 ('vscode')",
   "language": "python",
   "name": "python3"
  },
  "language_info": {
   "codemirror_mode": {
    "name": "ipython",
    "version": 3
   },
   "file_extension": ".py",
   "mimetype": "text/x-python",
   "name": "python",
   "nbconvert_exporter": "python",
   "pygments_lexer": "ipython3",
   "version": "3.9.11"
  },
  "orig_nbformat": 4
 },
 "nbformat": 4,
 "nbformat_minor": 2
}
