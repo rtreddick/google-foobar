{
 "cells": [
  {
   "cell_type": "code",
   "execution_count": 12,
   "metadata": {},
   "outputs": [],
   "source": [
    "import copy\n",
    "import itertools\n",
    "import math\n",
    "\n",
    "\n",
    "class ImpossibleTriangleError(Exception):\n",
    "    def __init__(self, beam_distance):\n",
    "        self.beam_distance = beam_distance\n",
    "\n",
    "\n",
    "class Wall:\n",
    "    def __init__(self, wall, dimensions, my_position, trainer_position, room):\n",
    "        self.wall = wall\n",
    "        self.axis = wall % 2\n",
    "        self.length = dimensions[self.axis]\n",
    "        self.span = dimensions[not self.axis]\n",
    "        self.distance_to_me = dimensions[not self.axis] - my_position[not self.axis] if wall < 2 else my_position[not self.axis]\n",
    "        self.distance_to_trainer = dimensions[not self.axis] - trainer_position[not self.axis] if wall < 2 else trainer_position[not self.axis]\n",
    "        self.room = room\n",
    "\n",
    "        def turn(self, direction):\n",
    "            return self.room.walls[(self.wall + direction) % 4]\n",
    "\n",
    "        def reflect(self):\n",
    "            return self.room.walls[(self.wall + 2) % 4]\n",
    "\n",
    "\n",
    "class Room:\n",
    "    def __init__(self, walls, dimensions, my_position, trainer_position):\n",
    "        self.walls = [Wall(wall, dimensions, my_position, trainer_position, self) for wall in walls]\n",
    "        self.my_position = my_position\n",
    "        self.trainer_position = trainer_position\n",
    "\n",
    "\n",
    "class Path:\n",
    "    def __init__(self, first_wall, second_wall, direction, room):\n",
    "        self.walls = [first_wall, second_wall]\n",
    "        self.direction = direction\n",
    "        self.room = room\n",
    "        self.axis = first_wall.axis if first_wall.axis == second_wall.axis else None\n",
    "        self.turned = True if self.axis is None else False\n",
    "        self.opposite_axis = first_wall % 2\n",
    "        self.adjacent = first_wall.distance_to_me + first_wall.span\n",
    "        self.opposite = first_wall.turn().distance_to_me\n",
    "\n",
    "    def turn(self):\n",
    "        path = copy.deepcopy(self)\n",
    "        if not path.turned: path.turned = True\n",
    "        wall = self.walls[-1].turn()\n",
    "        path.opposite += wall.length if wall.axis == self.opposite_axis else 0\n",
    "        path.adjacent += wall.length if wall.axis != self.opposite_axis else 0\n",
    "        path.walls.append(wall)\n",
    "        return path\n",
    "        \n",
    "    def reflect(self):\n",
    "        path = copy.deepcopy(self)\n",
    "        wall = self.walls[-1].reflect()\n",
    "        if not path.axis: path.axis = wall.axis\n",
    "        path.direction = -path.direction\n",
    "        path.opposite += wall.span if wall.axis != path.opposite_axis else 0\n",
    "        path.adjacent += wall.span if wall.axis == path.opposite_axis else 0\n",
    "        path.walls.append(wall)\n",
    "        return path\n",
    "\n",
    "    def extend(self):\n",
    "        if self.axis is None or self.walls[-1].axis == self.axis: return (self.reflect(), self.turn())\n",
    "        else: return (self.turn(),)\n",
    "\n",
    "    def beam_distance(self):\n",
    "        wall = self.walls[-1]\n",
    "\n",
    "        if wall.axis == self.opposite_axis:\n",
    "            self.adjacent += wall.distance_to_trainer\n",
    "            self.opposite -= wall.turn().distance_to_trainer\n",
    "\n",
    "        if wall.axis != self.opposite_axis:\n",
    "            self.adjacent -= wall.turn().distance_to_trainer\n",
    "            self.opposite += wall.distance_to_trainer\n",
    "\n",
    "        if self.adjacent == 0 or self.opposite == 0:\n",
    "            beam_distance = sum(self.adjacent + self.opposite)\n",
    "            raise ImpossibleTriangleError(beam_distance)\n",
    "\n",
    "        first_adjacent = float(wall[0].distance_to_me)\n",
    "        first_opposite = first_adjacent * self.opposite / self.adjacent\n",
    "        first_hypotenuse = math.sqrt(first_adjacent ** 2 + first_opposite ** 2)\n",
    "        beam_distance = first_hypotenuse * self.opposite / first_opposite\n",
    "\n",
    "        if first_opposite > self.walls[0].turn().distance_to_me:\n",
    "            raise ImpossibleTriangleError(beam_distance)\n",
    "\n",
    "        if not self.turned and wall.turn().distance_to_trainer > wall.turn().distance_to_me:\n",
    "            raise ImpossibleTriangleError(beam_distance)\n",
    "\n",
    "\n",
    "def solution(dimensions, my_position, trainer_position, distance):\n",
    "\n",
    "    walls = [0,1,2,3]\n",
    "    moves = [-1,2,2,1]\n",
    "    directions = [-1,-1,1,1]\n",
    "    room = Room(walls, dimensions, my_position, trainer_position)\n",
    "    stack = [Path(room.walls[wall], room.walls[(wall + move) % 4], direction, room) for wall in walls for move, direction in zip(moves, directions)]\n",
    "\n",
    "    if math.sqrt((trainer_position[0] - my_position[0]) ** 2 + (trainer_position[1] - my_position[1]) ** 2) <= distance: result = 1\n",
    "    else: return 0\n",
    "\n",
    "    for wall in room.walls:\n",
    "        opposite_axis = wall.wall % 2\n",
    "        first_adjacent = float(wall.distance_to_me)\n",
    "        adjacent = first_adjacent + wall.distance_to_trainer\n",
    "        opposite = abs(trainer_position[opposite_axis] - my_position[opposite_axis])\n",
    "        first_opposite = first_adjacent * opposite / adjacent\n",
    "        first_hypotenuse = math.sqrt(first_adjacent ** 2 + first_opposite ** 2)\n",
    "        beam_distance = first_hypotenuse * opposite / first_opposite\n",
    "        \n",
    "        if beam_distance < distance:\n",
    "            result += 1\n",
    "\n",
    "    # write base cases\n",
    "\n",
    "    while stack:\n",
    "        path = stack.pop()\n",
    "\n",
    "        try:\n",
    "            if path.beam_distance() <= distance:\n",
    "                result += 1\n",
    "                stack.extend(path.extend())\n",
    "\n",
    "        except ImpossibleTriangleError as e:\n",
    "            if e.beam_distance < distance:\n",
    "                stack.extend(path.extend())"
   ]
  },
  {
   "cell_type": "code",
   "execution_count": 15,
   "metadata": {},
   "outputs": [
    {
     "ename": "AttributeError",
     "evalue": "'int' object has no attribute 'distance_to_me'",
     "output_type": "error",
     "traceback": [
      "\u001b[0;31m---------------------------------------------------------------------------\u001b[0m",
      "\u001b[0;31mAttributeError\u001b[0m                            Traceback (most recent call last)",
      "\u001b[1;32m/Users/timreddick/code/google-foobar/level_4/challenge_7/challenge_7_v5.ipynb Cell 2\u001b[0m in \u001b[0;36m<cell line: 1>\u001b[0;34m()\u001b[0m\n\u001b[0;32m----> <a href='vscode-notebook-cell:/Users/timreddick/code/google-foobar/level_4/challenge_7/challenge_7_v5.ipynb#W4sZmlsZQ%3D%3D?line=0'>1</a>\u001b[0m path \u001b[39m=\u001b[39m Path(\u001b[39m1\u001b[39;49m,\u001b[39m2\u001b[39;49m,\u001b[39m3\u001b[39;49m,\u001b[39m4\u001b[39;49m)\n",
      "\u001b[1;32m/Users/timreddick/code/google-foobar/level_4/challenge_7/challenge_7_v5.ipynb Cell 2\u001b[0m in \u001b[0;36mPath.__init__\u001b[0;34m(self, first_wall, second_wall, direction, room)\u001b[0m\n\u001b[1;32m     <a href='vscode-notebook-cell:/Users/timreddick/code/google-foobar/level_4/challenge_7/challenge_7_v5.ipynb#W4sZmlsZQ%3D%3D?line=18'>19</a>\u001b[0m \u001b[39mself\u001b[39m\u001b[39m.\u001b[39mroom \u001b[39m=\u001b[39m room\n\u001b[1;32m     <a href='vscode-notebook-cell:/Users/timreddick/code/google-foobar/level_4/challenge_7/challenge_7_v5.ipynb#W4sZmlsZQ%3D%3D?line=19'>20</a>\u001b[0m \u001b[39mself\u001b[39m\u001b[39m.\u001b[39maxis \u001b[39m=\u001b[39m \u001b[39mNone\u001b[39;00m\n\u001b[0;32m---> <a href='vscode-notebook-cell:/Users/timreddick/code/google-foobar/level_4/challenge_7/challenge_7_v5.ipynb#W4sZmlsZQ%3D%3D?line=20'>21</a>\u001b[0m \u001b[39mself\u001b[39m\u001b[39m.\u001b[39madjacent \u001b[39m=\u001b[39m first_wall\u001b[39m.\u001b[39;49mdistance_to_me\n\u001b[1;32m     <a href='vscode-notebook-cell:/Users/timreddick/code/google-foobar/level_4/challenge_7/challenge_7_v5.ipynb#W4sZmlsZQ%3D%3D?line=21'>22</a>\u001b[0m \u001b[39mself\u001b[39m\u001b[39m.\u001b[39mopposite \u001b[39m=\u001b[39m \u001b[39m0\u001b[39m\n",
      "\u001b[0;31mAttributeError\u001b[0m: 'int' object has no attribute 'distance_to_me'"
     ]
    }
   ],
   "source": []
  },
  {
   "cell_type": "code",
   "execution_count": 14,
   "metadata": {},
   "outputs": [
    {
     "data": {
      "text/plain": [
       "[<__main__.Path at 0x7fe2fefb7b50>,\n",
       " <__main__.Path at 0x7fe2fefb7a90>,\n",
       " <__main__.Path at 0x7fe2fefb7d90>,\n",
       " <__main__.Path at 0x7fe2fefb7220>,\n",
       " <__main__.Path at 0x7fe2ff548730>,\n",
       " <__main__.Path at 0x7fe2ff548160>,\n",
       " <__main__.Path at 0x7fe2ff0634f0>,\n",
       " <__main__.Path at 0x7fe2ff063820>,\n",
       " <__main__.Path at 0x7fe2ff063f40>,\n",
       " <__main__.Path at 0x7fe2ff063460>,\n",
       " <__main__.Path at 0x7fe2ff56fa90>,\n",
       " <__main__.Path at 0x7fe2ff56f3a0>,\n",
       " <__main__.Path at 0x7fe2ff56f4f0>,\n",
       " <__main__.Path at 0x7fe2ff56f940>,\n",
       " <__main__.Path at 0x7fe2ff104400>,\n",
       " <__main__.Path at 0x7fe2ff1043a0>]"
      ]
     },
     "execution_count": 14,
     "metadata": {},
     "output_type": "execute_result"
    }
   ],
   "source": [
    "# solution([3,2], [1,1], [2,1], 4)"
   ]
  },
  {
   "cell_type": "code",
   "execution_count": 13,
   "metadata": {},
   "outputs": [
    {
     "name": "stdout",
     "output_type": "stream",
     "text": [
      "[0, 3] -1\n",
      "[0, 2] -1\n",
      "[0, 2] 1\n",
      "[0, 1] 1\n",
      "[1, 0] -1\n",
      "[1, 3] -1\n",
      "[1, 3] 1\n",
      "[1, 2] 1\n",
      "[2, 1] -1\n",
      "[2, 0] -1\n",
      "[2, 0] 1\n",
      "[2, 3] 1\n",
      "[3, 2] -1\n",
      "[3, 1] -1\n",
      "[3, 1] 1\n",
      "[3, 0] 1\n"
     ]
    }
   ],
   "source": [
    "# paths = solution([300,275], [150,150], [185,100], 500)\n",
    "for path in paths: print([wall.wall for wall in path.walls], path.direction)"
   ]
  }
 ],
 "metadata": {
  "kernelspec": {
   "display_name": "Python 3.9.0 ('vscode')",
   "language": "python",
   "name": "python3"
  },
  "language_info": {
   "codemirror_mode": {
    "name": "ipython",
    "version": 3
   },
   "file_extension": ".py",
   "mimetype": "text/x-python",
   "name": "python",
   "nbconvert_exporter": "python",
   "pygments_lexer": "ipython3",
   "version": "3.9.0"
  },
  "orig_nbformat": 4,
  "vscode": {
   "interpreter": {
    "hash": "893229d0ddce75d3b3a56e3f335659d14dfafc7ff39818ac9d0f7682480ece89"
   }
  }
 },
 "nbformat": 4,
 "nbformat_minor": 2
}
