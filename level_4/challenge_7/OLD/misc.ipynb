{
 "cells": [
  {
   "cell_type": "code",
   "execution_count": 1,
   "metadata": {},
   "outputs": [
    {
     "data": {
      "text/plain": [
       "106.06601717798213"
      ]
     },
     "execution_count": 1,
     "metadata": {},
     "output_type": "execute_result"
    }
   ],
   "source": [
    "import math\n",
    "\n",
    "math.sqrt(75 ** 2 + 75 ** 2)"
   ]
  },
  {
   "cell_type": "code",
   "execution_count": 2,
   "metadata": {},
   "outputs": [
    {
     "name": "stdout",
     "output_type": "stream",
     "text": [
      "2\n"
     ]
    }
   ],
   "source": [
    "print(None or 2)"
   ]
  },
  {
   "cell_type": "code",
   "execution_count": 12,
   "metadata": {},
   "outputs": [
    {
     "name": "stdout",
     "output_type": "stream",
     "text": [
      "2.23606797749979\n",
      "4.47213595499958\n"
     ]
    }
   ],
   "source": [
    "adj_1 = 2\n",
    "adj = adj_1 + 2\n",
    "opp = 2\n",
    "opp_1 = opp / adj * adj_1\n",
    "hyp_1_t1 = math.sqrt(adj_1 ** 2 + opp_1 ** 2)\n",
    "hyp_t1 = opp / opp_1 * hyp_1_t1\n",
    "\n",
    "print(hyp_1_t1)\n",
    "print(hyp_t1)"
   ]
  },
  {
   "cell_type": "code",
   "execution_count": null,
   "metadata": {},
   "outputs": [],
   "source": [
    "class Run:\n",
    "    def __init__(self, first_wall, length):\n",
    "        self.first_wall = first_wall\n",
    "        self.length = length"
   ]
  },
  {
   "cell_type": "code",
   "execution_count": 13,
   "metadata": {},
   "outputs": [
    {
     "name": "stdout",
     "output_type": "stream",
     "text": [
      "2.8284271247461903\n",
      "5.656854249492381\n"
     ]
    }
   ],
   "source": [
    "adj_1 = 2\n",
    "adj = adj_1 + 2\n",
    "opp = 3 + 1\n",
    "opp_1 = opp / adj * adj_1\n",
    "hyp_1_t2 = math.sqrt(adj_1 ** 2 + opp_1 ** 2)\n",
    "hyp_t2 = opp / opp_1 * hyp_1_t2\n",
    "\n",
    "print(hyp_1_t2)\n",
    "print(hyp_t2)"
   ]
  },
  {
   "cell_type": "code",
   "execution_count": 15,
   "metadata": {},
   "outputs": [
    {
     "name": "stdout",
     "output_type": "stream",
     "text": [
      "1.184718294492801\n",
      "1.2649110640673518\n"
     ]
    }
   ],
   "source": [
    "print(hyp_t2 - hyp_t1)\n",
    "print(hyp_t2 / hyp_t1)\n"
   ]
  },
  {
   "cell_type": "code",
   "execution_count": null,
   "metadata": {},
   "outputs": [],
   "source": [
    "memo = {\n",
    "    ('y', 3),\n",
    "    ('x', 4)\n",
    "}"
   ]
  },
  {
   "cell_type": "code",
   "execution_count": 23,
   "metadata": {},
   "outputs": [
    {
     "name": "stdout",
     "output_type": "stream",
     "text": [
      "['XXXX', 'XXXY', 'XXYY', 'XYYY', 'YYYY']\n"
     ]
    }
   ],
   "source": [
    "# import collections\n",
    "# import itertools\n",
    "\n",
    "# result = *itertools.combinations_with_replacement('XY', 4)''\n",
    "# print(result)"
   ]
  },
  {
   "cell_type": "code",
   "execution_count": 42,
   "metadata": {},
   "outputs": [
    {
     "name": "stdout",
     "output_type": "stream",
     "text": [
      "300 275\n",
      "300 275\n",
      "300 275\n",
      "300 275\n",
      "300 275\n"
     ]
    }
   ],
   "source": [
    "result = solution([300,275], [150,150], [185,100], 500)\n",
    "for path in result:\n",
    "    print(path.x_distance, path.y_distance)"
   ]
  },
  {
   "cell_type": "code",
   "execution_count": 47,
   "metadata": {},
   "outputs": [],
   "source": [
    "# combos = []\n",
    "# for i in range(1, 4):\n",
    "\n",
    "runs = []\n",
    "combos = [''.join(combo) for combos in (itertools.combinations_with_replacement('XY', i) for i in range(1,4)) for combo in combos]"
   ]
  },
  {
   "cell_type": "code",
   "execution_count": 78,
   "metadata": {},
   "outputs": [
    {
     "ename": "TypeError",
     "evalue": "combinations() missing required argument 'r' (pos 2)",
     "output_type": "error",
     "traceback": [
      "\u001b[0;31m---------------------------------------------------------------------------\u001b[0m",
      "\u001b[0;31mTypeError\u001b[0m                                 Traceback (most recent call last)",
      "\u001b[1;32m/Users/timreddick/code/google-foobar/level_4/challenge_7/OLD/misc.ipynb Cell 12\u001b[0m in \u001b[0;36m<cell line: 2>\u001b[0;34m()\u001b[0m\n\u001b[1;32m      <a href='vscode-notebook-cell:/Users/timreddick/code/google-foobar/level_4/challenge_7/OLD/misc.ipynb#X22sZmlsZQ%3D%3D?line=0'>1</a>\u001b[0m runs \u001b[39m=\u001b[39m [axis \u001b[39m*\u001b[39m i \u001b[39mfor\u001b[39;00m i \u001b[39min\u001b[39;00m \u001b[39mrange\u001b[39m(\u001b[39m1\u001b[39m,\u001b[39m4\u001b[39m) \u001b[39mfor\u001b[39;00m axis \u001b[39min\u001b[39;00m [\u001b[39m'\u001b[39m\u001b[39mx\u001b[39m\u001b[39m'\u001b[39m, \u001b[39m'\u001b[39m\u001b[39my\u001b[39m\u001b[39m'\u001b[39m]]\n\u001b[0;32m----> <a href='vscode-notebook-cell:/Users/timreddick/code/google-foobar/level_4/challenge_7/OLD/misc.ipynb#X22sZmlsZQ%3D%3D?line=1'>2</a>\u001b[0m combos \u001b[39m=\u001b[39m itertools\u001b[39m.\u001b[39;49mcombinations(runs)\n",
      "\u001b[0;31mTypeError\u001b[0m: combinations() missing required argument 'r' (pos 2)"
     ]
    }
   ],
   "source": [
    "runs = [axis * i for i in range(1,4) for axis in ['x', 'y']]\n",
    "combos = itertools.combinations(runs)\n"
   ]
  },
  {
   "cell_type": "code",
   "execution_count": 60,
   "metadata": {},
   "outputs": [
    {
     "name": "stdout",
     "output_type": "stream",
     "text": [
      "X XX XXX\n"
     ]
    }
   ],
   "source": [
    "# result = (''.join(repeat(axis, i)) for i in range(1,4)) for axis in ('x', 'y')\n",
    "# print(*result)"
   ]
  },
  {
   "cell_type": "code",
   "execution_count": 48,
   "metadata": {},
   "outputs": [
    {
     "data": {
      "text/plain": [
       "['X', 'Y', 'XX', 'XY', 'YY', 'XXX', 'XXY', 'XYY', 'YYY']"
      ]
     },
     "execution_count": 48,
     "metadata": {},
     "output_type": "execute_result"
    }
   ],
   "source": [
    "combos"
   ]
  },
  {
   "cell_type": "code",
   "execution_count": null,
   "metadata": {},
   "outputs": [],
   "source": [
    "axes = ['x', 'y']\n",
    "walls = [-1, 1, -2, 2] # North, South, East, West\n",
    "# flip * (-1)\n",
    "# rotate right -1\n",
    "\n",
    "queue = axes.copy()\n",
    "\n",
    "while queue:\n",
    "    path = queue.pop(0)\n",
    "    if path.\n",
    "\n",
    "# 'nort\n",
    "\n"
   ]
  },
  {
   "cell_type": "code",
   "execution_count": 87,
   "metadata": {},
   "outputs": [
    {
     "name": "stdout",
     "output_type": "stream",
     "text": [
      "0b1\n",
      "0b10\n",
      "0b11\n",
      "0b100\n"
     ]
    }
   ],
   "source": [
    "print(bin(1))\n",
    "print(bin(2))\n",
    "print(bin(3))\n",
    "print(bin(4))"
   ]
  },
  {
   "cell_type": "code",
   "execution_count": 99,
   "metadata": {},
   "outputs": [
    {
     "data": {
      "text/plain": [
       "1"
      ]
     },
     "execution_count": 99,
     "metadata": {},
     "output_type": "execute_result"
    }
   ],
   "source": [
    "bin(1)\n",
    "bin(3)\n",
    "1 & 3"
   ]
  },
  {
   "cell_type": "code",
   "execution_count": 308,
   "metadata": {},
   "outputs": [],
   "source": [
    "class Path:\n",
    "    def __init__(self, current_wall, axis, direction, dimensions, first_wall_to_me, last_wall_to_trainer):\n",
    "        self.current_wall = current_wall\n",
    "        self.axis = axis\n",
    "        self.direction = direction\n",
    "        self.first_wall_to_me = first_wall_to_me\n",
    "        self.last_wall_to_me = last_wall_to_trainer\n",
    "        self.axis_distance = ...\n",
    "\n",
    "    def turn(self):\n",
    "        self.current_wall = (self.current_wall + self.direction) % 4\n",
    "\n",
    "    def reflect(self):\n",
    "        self.direction = -self.direction\n",
    "        self.current_wall = (self.current_wall + 2) % 4\n",
    "\n",
    "    def calc_distance(self):\n",
    "        pass\n"
   ]
  },
  {
   "cell_type": "code",
   "execution_count": 309,
   "metadata": {},
   "outputs": [
    {
     "data": {
      "text/plain": [
       "0"
      ]
     },
     "execution_count": 309,
     "metadata": {},
     "output_type": "execute_result"
    }
   ],
   "source": [
    "path = Path(0, 0, 0, 1)\n",
    "path.current_wall"
   ]
  },
  {
   "cell_type": "code",
   "execution_count": null,
   "metadata": {},
   "outputs": [],
   "source": [
    "def"
   ]
  },
  {
   "cell_type": "code",
   "execution_count": 310,
   "metadata": {},
   "outputs": [
    {
     "data": {
      "text/plain": [
       "1"
      ]
     },
     "execution_count": 310,
     "metadata": {},
     "output_type": "execute_result"
    }
   ],
   "source": [
    "path.turn()\n",
    "path.current_wall"
   ]
  },
  {
   "cell_type": "code",
   "execution_count": 311,
   "metadata": {},
   "outputs": [
    {
     "data": {
      "text/plain": [
       "3"
      ]
     },
     "execution_count": 311,
     "metadata": {},
     "output_type": "execute_result"
    }
   ],
   "source": [
    "path.reflect()\n",
    "path.current_wall"
   ]
  },
  {
   "cell_type": "code",
   "execution_count": 314,
   "metadata": {},
   "outputs": [],
   "source": [
    "import itertools\n",
    "\n",
    "def solution(dimensions, my_position, trainer_position, distance):\n",
    "\n",
    "    # queue = [Path(*product, dimensions, my_position, trainer_position, distance) for product in itertools.product((1,2,3,4), (1,2,3,4), (0,1), (0,1))]\n",
    "\n",
    "    while \n",
    "\n",
    "    \n",
    "    "
   ]
  },
  {
   "cell_type": "code",
   "execution_count": null,
   "metadata": {},
   "outputs": [],
   "source": []
  },
  {
   "cell_type": "code",
   "execution_count": 312,
   "metadata": {},
   "outputs": [
    {
     "data": {
      "text/plain": [
       "[<__main__.Path at 0x7fa65ca84040>,\n",
       " <__main__.Path at 0x7fa65cc8ba00>,\n",
       " <__main__.Path at 0x7fa65cc8b640>,\n",
       " <__main__.Path at 0x7fa65cc8b880>,\n",
       " <__main__.Path at 0x7fa65cc8b850>,\n",
       " <__main__.Path at 0x7fa65cc8ba30>,\n",
       " <__main__.Path at 0x7fa65cc8b520>,\n",
       " <__main__.Path at 0x7fa65cc8ba60>,\n",
       " <__main__.Path at 0x7fa65cc8b430>,\n",
       " <__main__.Path at 0x7fa65cc8b820>,\n",
       " <__main__.Path at 0x7fa65cc8b0a0>,\n",
       " <__main__.Path at 0x7fa65cc335b0>,\n",
       " <__main__.Path at 0x7fa65cc33df0>,\n",
       " <__main__.Path at 0x7fa65cc33190>,\n",
       " <__main__.Path at 0x7fa65cc337c0>,\n",
       " <__main__.Path at 0x7fa65cc339d0>,\n",
       " <__main__.Path at 0x7fa65cc33520>,\n",
       " <__main__.Path at 0x7fa65cc33e20>,\n",
       " <__main__.Path at 0x7fa65cc33040>,\n",
       " <__main__.Path at 0x7fa65cc339a0>,\n",
       " <__main__.Path at 0x7fa65cc33e50>,\n",
       " <__main__.Path at 0x7fa65cc33fd0>,\n",
       " <__main__.Path at 0x7fa65cc33610>,\n",
       " <__main__.Path at 0x7fa65cc33490>,\n",
       " <__main__.Path at 0x7fa65cc33430>,\n",
       " <__main__.Path at 0x7fa65cc33c10>,\n",
       " <__main__.Path at 0x7fa65cc33b80>,\n",
       " <__main__.Path at 0x7fa65cc33760>,\n",
       " <__main__.Path at 0x7fa65cc33970>,\n",
       " <__main__.Path at 0x7fa65cf9c8b0>,\n",
       " <__main__.Path at 0x7fa65cf9cdc0>,\n",
       " <__main__.Path at 0x7fa65cf9cd60>,\n",
       " <__main__.Path at 0x7fa65cf9cd00>,\n",
       " <__main__.Path at 0x7fa65cf9cca0>,\n",
       " <__main__.Path at 0x7fa65cf9cc40>,\n",
       " <__main__.Path at 0x7fa65cf9cbe0>,\n",
       " <__main__.Path at 0x7fa65cf9cb80>,\n",
       " <__main__.Path at 0x7fa65cf9ca60>,\n",
       " <__main__.Path at 0x7fa65cf9cf70>,\n",
       " <__main__.Path at 0x7fa65cf9ce20>,\n",
       " <__main__.Path at 0x7fa65cf9ce80>,\n",
       " <__main__.Path at 0x7fa65cf9ca90>,\n",
       " <__main__.Path at 0x7fa65cf9caf0>,\n",
       " <__main__.Path at 0x7fa65cf9ca00>,\n",
       " <__main__.Path at 0x7fa65cf9c970>,\n",
       " <__main__.Path at 0x7fa65cf9c820>,\n",
       " <__main__.Path at 0x7fa65cf9c8e0>,\n",
       " <__main__.Path at 0x7fa65cf9c940>,\n",
       " <__main__.Path at 0x7fa65cf9c760>,\n",
       " <__main__.Path at 0x7fa65cf9c640>,\n",
       " <__main__.Path at 0x7fa65cf9c4c0>,\n",
       " <__main__.Path at 0x7fa65cf9c6a0>,\n",
       " <__main__.Path at 0x7fa65cf9c5b0>,\n",
       " <__main__.Path at 0x7fa65cf9c460>,\n",
       " <__main__.Path at 0x7fa65cf9cee0>,\n",
       " <__main__.Path at 0x7fa65cf9c3a0>,\n",
       " <__main__.Path at 0x7fa65cf9c7f0>,\n",
       " <__main__.Path at 0x7fa65cf9c3d0>,\n",
       " <__main__.Path at 0x7fa65cf9c340>,\n",
       " <__main__.Path at 0x7fa65cf9c730>,\n",
       " <__main__.Path at 0x7fa65cf9c5e0>,\n",
       " <__main__.Path at 0x7fa65cf9c220>,\n",
       " <__main__.Path at 0x7fa65cf9c4f0>,\n",
       " <__main__.Path at 0x7fa65cf9cfd0>]"
      ]
     },
     "execution_count": 312,
     "metadata": {},
     "output_type": "execute_result"
    }
   ],
   "source": [
    "result = solution([300,275], [150,150], [185,100], 500)\n",
    "\n",
    "\n",
    "result = solution([3,3], [1,1], [2,2], 10000)\n"
   ]
  },
  {
   "cell_type": "code",
   "execution_count": null,
   "metadata": {},
   "outputs": [],
   "source": []
  }
 ],
 "metadata": {
  "kernelspec": {
   "display_name": "Python 3.9.0 ('vscode')",
   "language": "python",
   "name": "python3"
  },
  "language_info": {
   "codemirror_mode": {
    "name": "ipython",
    "version": 3
   },
   "file_extension": ".py",
   "mimetype": "text/x-python",
   "name": "python",
   "nbconvert_exporter": "python",
   "pygments_lexer": "ipython3",
   "version": "3.9.0"
  },
  "orig_nbformat": 4,
  "vscode": {
   "interpreter": {
    "hash": "893229d0ddce75d3b3a56e3f335659d14dfafc7ff39818ac9d0f7682480ece89"
   }
  }
 },
 "nbformat": 4,
 "nbformat_minor": 2
}
