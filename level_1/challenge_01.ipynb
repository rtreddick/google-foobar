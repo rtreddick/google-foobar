{
 "cells": [
  {
   "cell_type": "markdown",
   "metadata": {},
   "source": [
    "Minion Work Assignments\n",
    "=======================\n",
    "\n",
    "Commander Lambda's minions are upset! They're given the worst jobs on the whole space station, and some of them are starting to complain that even those worst jobs are being allocated unfairly. If you can fix this problem, it'll prove your chops to Commander Lambda so you can get promoted!\n",
    "\n",
    "Minions' tasks are assigned by putting their ID numbers into a list, one time for each day they'll work that task. As shifts are planned well in advance, the lists for each task will contain up to 99 integers. When a minion is scheduled for the same task too many times, they'll complain about it until they're taken off the task completely. Some tasks are worse than others, so the number of scheduled assignments before a minion will refuse to do a task varies depending on the task.  You figure you can speed things up by automating the removal of the minions who have been assigned a task too many times before they even get a chance to start complaining.\n",
    "\n",
    "Write a function called solution(data, n) that takes in a list of less than 100 integers and a number n, and returns that same list but with all of the numbers that occur more than n times removed entirely. The returned list should retain the same ordering as the original list - you don't want to mix up those carefully-planned shift rotations! For instance, if data was [5, 10, 15, 10, 7] and n was 1, solution(data, n) would return the list [5, 15, 7] because 10 occurs twice, and thus was removed from the list entirely.\n",
    "\n",
    "Languages\n",
    "=========\n",
    "\n",
    "To provide a Python solution, edit solution.py\n",
    "To provide a Java solution, edit Solution.java\n",
    "\n",
    "Test cases\n",
    "==========\n",
    "Your code should pass the following test cases.\n",
    "Note that it may also be run against hidden test cases not shown here.\n",
    "\n",
    "-- Python cases --\n",
    "Input:\n",
    "solution.solution([1, 2, 3], 0)\n",
    "Output:\n",
    "    \n",
    "\n",
    "Input:\n",
    "solution.solution([1, 2, 2, 3, 3, 3, 4, 5, 5], 1)\n",
    "Output:\n",
    "    1,4\n",
    "\n",
    "-- Java cases --\n",
    "Input:\n",
    "Solution.solution({1, 2, 3}, 0)\n",
    "Output:\n",
    "    \n",
    "\n",
    "Input:\n",
    "Solution.solution({1, 2, 2, 3, 3, 3, 4, 5, 5}, 1)\n",
    "Output:\n",
    "    1,4\n",
    "\n",
    "Use verify [file] to test your solution and see how it does. When you are finished editing your code, use submit [file] to submit your answer. If your solution passes the test cases, it will be removed from your home folder.\n"
   ]
  },
  {
   "cell_type": "code",
   "execution_count": 34,
   "metadata": {},
   "outputs": [],
   "source": [
    "from collections import Counter\n",
    "\n",
    "def solution(data, n):\n",
    "    counter = Counter(data)\n",
    "    return [id for id in data if counter.get(id) <= n]\n",
    "\n",
    "test_case_1 = ([1, 2, 2, 3, 3, 3, 4, 5, 5], 1)\n",
    "test_case_2 = ([1, 2, 3], 0)\n",
    "\n",
    "assert solution(*test_case_1) == [1,4]\n",
    "assert solution(*test_case_2) == []"
   ]
  }
 ],
 "metadata": {
  "interpreter": {
   "hash": "9a7e77080e188257cc1a13b05fad48f882a01cda02e79cab0e7533d2fa726a6a"
  },
  "kernelspec": {
   "display_name": "Python 3.9.11 ('vscode')",
   "language": "python",
   "name": "python3"
  },
  "language_info": {
   "codemirror_mode": {
    "name": "ipython",
    "version": 3
   },
   "file_extension": ".py",
   "mimetype": "text/x-python",
   "name": "python",
   "nbconvert_exporter": "python",
   "pygments_lexer": "ipython3",
   "version": "3.9.11"
  },
  "orig_nbformat": 4
 },
 "nbformat": 4,
 "nbformat_minor": 2
}
